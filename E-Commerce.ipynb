{
 "cells": [
  {
   "cell_type": "code",
   "execution_count": 0,
   "metadata": {
    "application/vnd.databricks.v1+cell": {
     "cellMetadata": {
      "byteLimit": 2048000,
      "rowLimit": 10000
     },
     "inputWidgets": {},
     "nuid": "727ad0aa-3b89-4a6f-ac27-765e2c9fb4a9",
     "showTitle": false,
     "tableResultSettingsMap": {},
     "title": ""
    }
   },
   "outputs": [],
   "source": [
    "import pandas as pd\n",
    "import seaborn as sns\n",
    "import matplotlib.pyplot as plt\n",
    "import os\n",
    "from sklearn.model_selection import train_test_split\n",
    "from sklearn.ensemble import RandomForestClassifier\n",
    "from sklearn.metrics import classification_report, confusion_matrix\n",
    "from sklearn.inspection import permutation_importance\n",
    "sns.set(style='darkgrid')"
   ]
  },
  {
   "cell_type": "code",
   "execution_count": 0,
   "metadata": {
    "application/vnd.databricks.v1+cell": {
     "cellMetadata": {
      "byteLimit": 2048000,
      "rowLimit": 10000
     },
     "inputWidgets": {},
     "nuid": "f9c6daf9-76e9-4dc6-b0b6-15de6607e643",
     "showTitle": false,
     "tableResultSettingsMap": {},
     "title": ""
    }
   },
   "outputs": [],
   "source": [
    "orders = spark.sql(\"\"\"select * from ecommerce.olist_orders_dataset\"\"\")\n",
    "items = spark.sql(\"\"\"select * from ecommerce.olist_order_items_dataset\"\"\")\n",
    "reviews = spark.sql(\"\"\"select * from ecommerce.olist_order_reviews_dataset\"\"\")\n",
    "products = spark.sql(\"\"\"select * from ecommerce.olist_products_dataset\"\"\")"
   ]
  },
  {
   "cell_type": "code",
   "execution_count": 0,
   "metadata": {
    "application/vnd.databricks.v1+cell": {
     "cellMetadata": {
      "byteLimit": 2048000,
      "rowLimit": 10000
     },
     "inputWidgets": {},
     "nuid": "d658363b-bc3a-4f05-aac1-071bef407571",
     "showTitle": false,
     "tableResultSettingsMap": {},
     "title": ""
    }
   },
   "outputs": [],
   "source": [
    "order_reviews = orders.join(\n",
    "    reviews.select('order_id', 'review_score'),\n",
    "    on='order_id',\n",
    "    how='left'\n",
    ")\n",
    "display(order_reviews)"
   ]
  },
  {
   "cell_type": "code",
   "execution_count": 0,
   "metadata": {
    "application/vnd.databricks.v1+cell": {
     "cellMetadata": {
      "byteLimit": 2048000,
      "rowLimit": 10000
     },
     "inputWidgets": {},
     "nuid": "1e62a51f-fd9d-43e3-a59d-044365a71f3b",
     "showTitle": false,
     "tableResultSettingsMap": {},
     "title": ""
    }
   },
   "outputs": [],
   "source": [
    "item_summary = items.groupby('order_id').agg({\n",
    "    'price': 'sum',\n",
    "    'freight_value': 'sum',\n",
    "    'product_id': 'count'\n",
    "}).withColumnRenamed('sum(price)', 'total_price') \\\n",
    "  .withColumnRenamed('sum(freight_value)', 'freight') \\\n",
    "  .withColumnRenamed('count(product_id)', 'n_items')\n",
    "\n",
    "display(item_summary)"
   ]
  },
  {
   "cell_type": "code",
   "execution_count": 0,
   "metadata": {
    "application/vnd.databricks.v1+cell": {
     "cellMetadata": {
      "byteLimit": 2048000,
      "rowLimit": 10000
     },
     "inputWidgets": {},
     "nuid": "6218290b-8cf4-4b36-8223-4e8c24992037",
     "showTitle": false,
     "tableResultSettingsMap": {},
     "title": ""
    }
   },
   "outputs": [],
   "source": [
    "order_reviews = order_reviews.join(\n",
    "    item_summary.select('order_id', 'total_price', 'freight', 'n_items'),\n",
    "    on='order_id',\n",
    "    how='left'\n",
    ")\n",
    "display(order_reviews)"
   ]
  },
  {
   "cell_type": "code",
   "execution_count": 0,
   "metadata": {
    "application/vnd.databricks.v1+cell": {
     "cellMetadata": {
      "byteLimit": 2048000,
      "rowLimit": 10000
     },
     "inputWidgets": {},
     "nuid": "65701bfa-ad1c-49fe-b9a1-a9a85a2c044a",
     "showTitle": false,
     "tableResultSettingsMap": {},
     "title": ""
    }
   },
   "outputs": [],
   "source": [
    "# Add product category (most frequent in order)\n",
    "prod_cat = items.join(products.select('product_id', 'product_category_name'), on='product_id',\n",
    "    how='left')\n",
    "display(prod_cat)"
   ]
  },
  {
   "cell_type": "code",
   "execution_count": 0,
   "metadata": {
    "application/vnd.databricks.v1+cell": {
     "cellMetadata": {
      "byteLimit": 2048000,
      "rowLimit": 10000
     },
     "inputWidgets": {},
     "nuid": "1fd92bad-5b47-42f5-acfb-6d4eca0f988b",
     "showTitle": false,
     "tableResultSettingsMap": {},
     "title": ""
    }
   },
   "outputs": [],
   "source": [
    "%python\n",
    "from pyspark.sql import SparkSession\n",
    "from pyspark.sql.functions import udf\n",
    "from pyspark.sql.types import StringType\n",
    "\n",
    "# Create a Spark session\n",
    "spark = SparkSession.builder.appName(\"example\").getOrCreate()\n",
    "\n",
    "# Define the UDF\n",
    "def get_main_category(order_id):\n",
    "    return main_cat.get(order_id, None)\n",
    "\n",
    "# Register the UDF\n",
    "get_main_category_udf = udf(get_main_category, StringType())\n",
    "\n",
    "# Use withColumn to create the new column\n",
    "order_reviews = order_reviews.withColumn('main_category', get_main_category_udf(order_reviews['order_id']))\n",
    "\n",
    "# display(order_reviews)"
   ]
  },
  {
   "cell_type": "code",
   "execution_count": 0,
   "metadata": {
    "application/vnd.databricks.v1+cell": {
     "cellMetadata": {
      "byteLimit": 2048000,
      "rowLimit": 10000
     },
     "inputWidgets": {},
     "nuid": "efdd3a67-56e2-477a-a594-f65c9ca52356",
     "showTitle": false,
     "tableResultSettingsMap": {},
     "title": ""
    }
   },
   "outputs": [],
   "source": [
    "%python\n",
    "from pyspark.sql import SparkSession\n",
    "import pandas as pd\n",
    "\n",
    "# Ensure Spark session is active\n",
    "spark = SparkSession.builder.getOrCreate()\n",
    "\n",
    "# Select relevant columns and drop rows with missing values\n",
    "df_bin = order_reviews.select(\n",
    "    'order_id', 'review_score', 'total_price', 'freight', 'n_items', 'main_category'\n",
    ").dropna()\n",
    "\n",
    "# Create a new column 'positive_review' based on 'review_score'\n",
    "df_bin = df_bin.withColumn('positive_review', (df_bin['review_score'] == 5).cast(\"integer\"))\n",
    "\n",
    "# Drop unnecessary columns\n",
    "df_bin = df_bin.drop('review_score', 'order_id')\n",
    "\n",
    "# Convert to Pandas DataFrame\n",
    "df_bin_pd = df_bin.toPandas()\n",
    "\n",
    "# Perform get_dummies operation on 'main_category' column\n",
    "df_bin_pd = pd.get_dummies(df_bin_pd, columns=['main_category'], drop_first=True)\n",
    "\n",
    "# Convert back to Spark DataFrame\n",
    "df_bin = spark.createDataFrame(df_bin_pd)\n",
    "\n",
    "# Display the DataFrame\n",
    "display(df_bin)"
   ]
  },
  {
   "cell_type": "code",
   "execution_count": 0,
   "metadata": {
    "application/vnd.databricks.v1+cell": {
     "cellMetadata": {
      "byteLimit": 2048000,
      "rowLimit": 10000
     },
     "inputWidgets": {},
     "nuid": "7e022276-18ba-4de6-b02e-bc13d4e2f74a",
     "showTitle": false,
     "tableResultSettingsMap": {},
     "title": ""
    }
   },
   "outputs": [],
   "source": [
    "# Multi-class classification dataset\n",
    "def classify_score(score):\n",
    "    if score == 5:\n",
    "        return 'positive'\n",
    "    elif score == 3:\n",
    "        return 'neutral'\n",
    "    else:\n",
    "        return 'negative'\n",
    "\n",
    "order_reviews['review_score_class'] = order_reviews['review_score'].apply(classify_score)\n",
    "agg_df = order_reviews.groupby('order_id').agg({\n",
    "    'total_price': 'sum',\n",
    "    'freight': 'sum',\n",
    "    'main_category': lambda x: x.mode()[0] if not x.mode().empty else 'unknown',\n",
    "    'review_score_class': 'first'\n",
    "}).reset_index()\n",
    "agg_df = pd.get_dummies(agg_df, columns=['main_category'], drop_first=True)\n",
    "X_multi = agg_df.drop(columns=['order_id', 'review_score_class'])\n",
    "y_multi = agg_df['review_score_class'].map({'positive': 2, 'neutral': 1, 'negative': 0})"
   ]
  },
  {
   "cell_type": "code",
   "execution_count": 0,
   "metadata": {
    "application/vnd.databricks.v1+cell": {
     "cellMetadata": {
      "byteLimit": 2048000,
      "rowLimit": 10000
     },
     "inputWidgets": {},
     "nuid": "dc640bbd-fcd8-440f-acde-79e7c23f80ae",
     "showTitle": false,
     "tableResultSettingsMap": {},
     "title": ""
    }
   },
   "outputs": [],
   "source": [
    "print(\"===== Binary Class Distribution =====\")\n",
    "print(df_bin['positive_review'].value_counts(normalize=True))"
   ]
  },
  {
   "cell_type": "code",
   "execution_count": 0,
   "metadata": {
    "application/vnd.databricks.v1+cell": {
     "cellMetadata": {
      "byteLimit": 2048000,
      "rowLimit": 10000
     },
     "inputWidgets": {},
     "nuid": "42252e74-072f-4b44-a336-c8118d602e76",
     "showTitle": false,
     "tableResultSettingsMap": {},
     "title": ""
    }
   },
   "outputs": [],
   "source": [
    "# Correlation heatmap for numeric features\n",
    "plt.figure(figsize=(12, 6))\n",
    "corr = df_bin.corr(numeric_only=True)\n",
    "sns.heatmap(corr, annot=True, fmt=\".2f\", cmap=\"coolwarm\", center=0)\n",
    "plt.title(\"Correlation Heatmap of Binary Dataset Features\")\n",
    "plt.show()"
   ]
  },
  {
   "cell_type": "code",
   "execution_count": 0,
   "metadata": {
    "application/vnd.databricks.v1+cell": {
     "cellMetadata": {
      "byteLimit": 2048000,
      "rowLimit": 10000
     },
     "inputWidgets": {},
     "nuid": "d7d335b9-5509-447f-9f1e-48bb9e271eb4",
     "showTitle": false,
     "tableResultSettingsMap": {},
     "title": ""
    }
   },
   "outputs": [],
   "source": [
    "from pandas.plotting import scatter_matrix\n",
    "import matplotlib.pyplot as plt\n",
    "\n",
    "# Sample a subset of the data if it's too large\n",
    "sample_df = df_bin.sample(500, random_state=42)\n",
    "\n",
    "# Select numerical columns for the scatter matrix\n",
    "numerical_cols = sample_df.select_dtypes(include='number').columns\n",
    "\n",
    "# Create the scatter matrix\n",
    "scatter_matrix(sample_df[numerical_cols], figsize=(10, 10), diagonal='kde')\n",
    "\n",
    "plt.suptitle('Scatter Matrix of Sample Features (Binary)', y=1.02)\n",
    "plt.show()"
   ]
  },
  {
   "cell_type": "code",
   "execution_count": 0,
   "metadata": {
    "application/vnd.databricks.v1+cell": {
     "cellMetadata": {
      "byteLimit": 2048000,
      "rowLimit": 10000
     },
     "inputWidgets": {},
     "nuid": "c890ccf2-a911-4bee-b202-1c8621fd635f",
     "showTitle": false,
     "tableResultSettingsMap": {},
     "title": ""
    }
   },
   "outputs": [],
   "source": [
    "# Visualize distribution of numeric features by class\n",
    "features_to_plot = ['total_price', 'freight', 'n_items']\n",
    "\n",
    "for col in features_to_plot:\n",
    "    plt.figure(figsize=(6, 4))\n",
    "    sns.boxplot(data=df_bin, x='positive_review', y=col)\n",
    "    plt.title(f'{col} vs Positive Review')\n",
    "    plt.show()"
   ]
  },
  {
   "cell_type": "code",
   "execution_count": 0,
   "metadata": {
    "application/vnd.databricks.v1+cell": {
     "cellMetadata": {
      "byteLimit": 2048000,
      "rowLimit": 10000
     },
     "inputWidgets": {},
     "nuid": "c54aedb9-7333-40dc-bdf5-905d8e7cfe00",
     "showTitle": false,
     "tableResultSettingsMap": {},
     "title": ""
    }
   },
   "outputs": [],
   "source": [
    "# Binary Classification\n",
    "X_bin = df_bin.drop(columns='positive_review')\n",
    "y_bin = df_bin['positive_review']\n",
    "X_train_bin, X_test_bin, y_train_bin, y_test_bin = train_test_split(\n",
    "    X_bin, y_bin, stratify=y_bin, random_state=42)\n",
    "\n",
    "clf_bin = RandomForestClassifier(n_estimators=100, random_state=42)\n",
    "clf_bin.fit(X_train_bin, y_train_bin)"
   ]
  },
  {
   "cell_type": "code",
   "execution_count": 0,
   "metadata": {
    "application/vnd.databricks.v1+cell": {
     "cellMetadata": {
      "byteLimit": 2048000,
      "rowLimit": 10000
     },
     "inputWidgets": {},
     "nuid": "701fb0b7-1dff-4777-948e-1ac6c5aedcde",
     "showTitle": false,
     "tableResultSettingsMap": {},
     "title": ""
    }
   },
   "outputs": [],
   "source": [
    "# Multi-class Classification\n",
    "X_train_multi, X_test_multi, y_train_multi, y_test_multi = train_test_split(\n",
    "    X_multi, y_multi, stratify=y_multi, random_state=42)\n",
    "\n",
    "clf_multi = RandomForestClassifier(n_estimators=100, random_state=42)\n",
    "clf_multi.fit(X_train_multi, y_train_multi)"
   ]
  },
  {
   "cell_type": "code",
   "execution_count": 0,
   "metadata": {
    "application/vnd.databricks.v1+cell": {
     "cellMetadata": {
      "byteLimit": 2048000,
      "rowLimit": 10000
     },
     "inputWidgets": {},
     "nuid": "c3a2540a-4ab2-46d3-b2bc-ce396357dfc4",
     "showTitle": false,
     "tableResultSettingsMap": {},
     "title": ""
    }
   },
   "outputs": [],
   "source": [
    "# Binary\n",
    "print(\"===== Binary Classification Report =====\")\n",
    "print(classification_report(y_test_bin, clf_bin.predict(X_test_bin)))"
   ]
  },
  {
   "cell_type": "code",
   "execution_count": 0,
   "metadata": {
    "application/vnd.databricks.v1+cell": {
     "cellMetadata": {
      "byteLimit": 2048000,
      "rowLimit": 10000
     },
     "inputWidgets": {},
     "nuid": "3a9ef845-8dea-4abf-ada3-bf68d65be337",
     "showTitle": false,
     "tableResultSettingsMap": {},
     "title": ""
    }
   },
   "outputs": [],
   "source": [
    "# Binary\n",
    "print(\"===== Binary Confusion Matrix =====\")\n",
    "print(confusion_matrix(y_test_bin, clf_bin.predict(X_test_bin)))"
   ]
  },
  {
   "cell_type": "code",
   "execution_count": 0,
   "metadata": {
    "application/vnd.databricks.v1+cell": {
     "cellMetadata": {
      "byteLimit": 2048000,
      "rowLimit": 10000
     },
     "inputWidgets": {},
     "nuid": "4d180496-04df-4918-8a18-c527dd39c19c",
     "showTitle": false,
     "tableResultSettingsMap": {},
     "title": ""
    }
   },
   "outputs": [],
   "source": [
    "# Multi-class\n",
    "print(\"===== Multi-class Classification Report =====\")\n",
    "print(classification_report(y_test_multi, clf_multi.predict(X_test_multi)))"
   ]
  },
  {
   "cell_type": "code",
   "execution_count": 0,
   "metadata": {
    "application/vnd.databricks.v1+cell": {
     "cellMetadata": {
      "byteLimit": 2048000,
      "rowLimit": 10000
     },
     "inputWidgets": {},
     "nuid": "6bda73d3-93f3-429e-b5c3-6b83dbacef07",
     "showTitle": false,
     "tableResultSettingsMap": {},
     "title": ""
    }
   },
   "outputs": [],
   "source": [
    "# Multi-class\n",
    "print(\"===== Multi-class Confusion Matrix =====\")\n",
    "print(confusion_matrix(y_test_multi, clf_multi.predict(X_test_multi)))"
   ]
  },
  {
   "cell_type": "code",
   "execution_count": 0,
   "metadata": {
    "application/vnd.databricks.v1+cell": {
     "cellMetadata": {
      "byteLimit": 2048000,
      "rowLimit": 10000
     },
     "inputWidgets": {},
     "nuid": "9c3a9bc9-db80-4075-90ec-cbacac0887a8",
     "showTitle": false,
     "tableResultSettingsMap": {},
     "title": ""
    }
   },
   "outputs": [],
   "source": [
    "# Binary Feature Importances\n",
    "perm_bin = permutation_importance(clf_bin, X_test_bin, y_test_bin, n_repeats=10, random_state=42)\n",
    "importances_bin = pd.DataFrame({\n",
    "    'feature': X_bin.columns,\n",
    "    'importance': perm_bin.importances_mean\n",
    "}).sort_values('importance', ascending=False)\n",
    "\n",
    "plt.figure(figsize=(10,5))\n",
    "sns.barplot(data=importances_bin.head(10), x='importance', y='feature', palette='viridis')\n",
    "plt.title('Top 10 Feature Importances (Binary)')\n",
    "plt.show()"
   ]
  },
  {
   "cell_type": "markdown",
   "metadata": {
    "application/vnd.databricks.v1+cell": {
     "cellMetadata": {
      "byteLimit": 2048000,
      "rowLimit": 10000
     },
     "inputWidgets": {},
     "nuid": "3bd0ae5b-d520-458f-b5b7-7f18d0ec6fc7",
     "showTitle": false,
     "tableResultSettingsMap": {},
     "title": ""
    }
   },
   "source": [
    "Key Findings & Conclusions\n",
    "The models can reasonably predict customer satisfaction based on order characteristics.\n",
    "\n",
    "Features like freight value, total price, and number of items are often influential.\n",
    "\n",
    "Certain product categories might have a higher influence on the likelihood of receiving a positive or negative review.\n",
    "\n",
    "The dataset is imbalanced, with more positive reviews than neutral or negative, which affects model performance (common in real-world customer feedback datasets)."
   ]
  }
 ],
 "metadata": {
  "application/vnd.databricks.v1+notebook": {
   "computePreferences": null,
   "dashboards": [],
   "environmentMetadata": {
    "base_environment": "",
    "environment_version": "2"
   },
   "inputWidgetPreferences": null,
   "language": "python",
   "notebookMetadata": {
    "mostRecentlyExecutedCommandWithImplicitDF": {
     "commandId": 5156687885252760,
     "dataframes": [
      "_sqldf"
     ]
    },
    "pythonIndentUnit": 4
   },
   "notebookName": "E-Commerce",
   "widgets": {}
  },
  "language_info": {
   "name": "python"
  }
 },
 "nbformat": 4,
 "nbformat_minor": 0
}
